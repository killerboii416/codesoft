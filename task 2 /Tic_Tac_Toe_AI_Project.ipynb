{
  "nbformat": 4,
  "nbformat_minor": 0,
  "metadata": {
    "colab": {
      "provenance": []
    },
    "kernelspec": {
      "name": "python3",
      "display_name": "Python 3"
    },
    "language_info": {
      "name": "python"
    }
  },
  "cells": [
    {
      "cell_type": "markdown",
      "source": [
        "# **TIC-TAC-TOE AI PROJECT**"
      ],
      "metadata": {
        "id": "ZNdNTEbkeydC"
      }
    },
    {
      "cell_type": "markdown",
      "source": [
        "## **Problem Statement:**\n",
        "* Implement an AI agent that plays the classic game of Tic-Tac-Toe\n",
        "against a human player\n",
        "\n",
        "* You can use algorithms like Minimax with or without Alpha-Beta Pruning to make the AI player unbeatable.\n",
        "\n",
        "* Understand game theory and basic search algorithms."
      ],
      "metadata": {
        "id": "T5BP-fFwfPDr"
      }
    },
    {
      "cell_type": "markdown",
      "source": [
        "# **Game Theory:**\n",
        "* Tic-Tac-Toe is a two-player game where each player takes turns to mark a cell in a 3x3 grid. The goal is to form a straight line of three of their own marks (either \"X\" or \"O\") horizontally, vertically, or diagonally.\n",
        "* The game ends when one player achieves the goal or all cells are filled without a winner (a draw).\n",
        "* In game theory, Tic-Tac-Toe is a solved game, meaning that there exists a perfect strategy for both players.\n",
        "* In this case, the first player (usually \"X\") can always force a win or draw against a perfect opponent, and the second player (usually \"O\") can only hope for a draw with perfect play from both sides.*"
      ],
      "metadata": {
        "id": "ZUx6bjkHhCSj"
      }
    },
    {
      "cell_type": "markdown",
      "source": [
        "# **Minimax Algorithm:**\n",
        "* The Minimax algorithm is a decision-making algorithm used in two-player games to find the optimal move for the player taking into account the worst-case scenario.\n",
        "* In Tic-Tac-Toe, the algorithm explores the game tree by considering all possible moves from the current board state and choosing the move that maximizes the player's score while minimizing the opponent's score.\n",
        "* To implement an unbeatable Tic-Tac-Toe AI, we can use the Minimax algorithm with or without Alpha-Beta Pruning.\n",
        "* Alpha-Beta Pruning is an optimization technique that reduces the number of nodes explored in the game tree, making the algorithm more efficient."
      ],
      "metadata": {
        "id": "HeJgbWSIiNUn"
      }
    },
    {
      "cell_type": "markdown",
      "source": [
        "### **Import the necessary libraries**"
      ],
      "metadata": {
        "id": "e02uzORulKc1"
      }
    },
    {
      "cell_type": "code",
      "source": [
        "import random"
      ],
      "metadata": {
        "id": "6vG2VumUi7Jv"
      },
      "execution_count": 13,
      "outputs": []
    },
    {
      "cell_type": "markdown",
      "source": [
        "### **Define the Tic-Tac-Toe board as a 3x3 grid**"
      ],
      "metadata": {
        "id": "PzdBk12elXXx"
      }
    },
    {
      "cell_type": "code",
      "source": [
        "# Step 1:\n",
        "\n",
        "board = [[' ' for _ in range(3)] for _ in range(3)]\n"
      ],
      "metadata": {
        "id": "Yj-2VXSVi7Na"
      },
      "execution_count": 14,
      "outputs": []
    },
    {
      "cell_type": "markdown",
      "source": [
        "### **Display the Tic-Tac-Toe board**"
      ],
      "metadata": {
        "id": "_B9ZFNbllfti"
      }
    },
    {
      "cell_type": "code",
      "source": [
        "# Step 2:\n",
        "\n",
        "def display_board(board):\n",
        "    for row in board:\n",
        "        print('|'.join(row))\n",
        "        print('-' * 5)"
      ],
      "metadata": {
        "id": "2ai2BZnYjrEm"
      },
      "execution_count": 15,
      "outputs": []
    },
    {
      "cell_type": "markdown",
      "source": [
        "### **Check if a player has won the game**"
      ],
      "metadata": {
        "id": "iL-x1jwhl8RF"
      }
    },
    {
      "cell_type": "code",
      "source": [
        "# Step 3:\n",
        "\n",
        "def check_win(player):\n",
        "    # Check rows\n",
        "    for row in board:\n",
        "        if all(cell == player for cell in row):\n",
        "            return True\n",
        "    # Check columns\n",
        "    for col in range(3):\n",
        "        if all(board[row][col] == player for row in range(3)):\n",
        "            return True\n",
        "    # Check diagonals\n",
        "    if all(board[i][i] == player for i in range(3)) or all(board[i][2 - i] == player for i in range(3)):\n",
        "        return True\n",
        "    return False\n"
      ],
      "metadata": {
        "id": "akdacO7XjrIK"
      },
      "execution_count": 16,
      "outputs": []
    },
    {
      "cell_type": "markdown",
      "source": [
        "### **Check if the board is full (draw)**"
      ],
      "metadata": {
        "id": "PciImU0YmF4m"
      }
    },
    {
      "cell_type": "code",
      "source": [
        "# Step 4:\n",
        "\n",
        "def check_draw():\n",
        "    return all(cell != ' ' for row in board for cell in row)"
      ],
      "metadata": {
        "id": "deCNJF_5j-cl"
      },
      "execution_count": 17,
      "outputs": []
    },
    {
      "cell_type": "markdown",
      "source": [
        "### **Evaluate the board for the AI player (Maximizer)**"
      ],
      "metadata": {
        "id": "Y7UMyZ8xmORx"
      }
    },
    {
      "cell_type": "code",
      "source": [
        "# Step 5:\n",
        "\n",
        "def evaluate_board():\n",
        "    if check_win('X'):\n",
        "        return 1\n",
        "    elif check_win('O'):\n",
        "        return -1\n",
        "    else:\n",
        "        return 0"
      ],
      "metadata": {
        "id": "v-8Za1e6j-gH"
      },
      "execution_count": 18,
      "outputs": []
    },
    {
      "cell_type": "markdown",
      "source": [
        "### **Minimax algorithm with Alpha-Beta Pruning**"
      ],
      "metadata": {
        "id": "min_teXlmXUy"
      }
    },
    {
      "cell_type": "code",
      "source": [
        "# Step 6:\n",
        "\n",
        "def minimax(board, depth, alpha, beta, is_maximizing):\n",
        "    if check_win('X'):\n",
        "        return 1\n",
        "    elif check_win('O'):\n",
        "        return -1\n",
        "    elif check_draw():\n",
        "        return 0\n",
        "\n",
        "    if is_maximizing:\n",
        "        max_eval = float('-inf')\n",
        "        for i in range(3):\n",
        "            for j in range(3):\n",
        "                if board[i][j] == ' ':\n",
        "                    board[i][j] = 'X'\n",
        "                    eval = minimax(board, depth + 1, alpha, beta, False)\n",
        "                    board[i][j] = ' '\n",
        "                    max_eval = max(max_eval, eval)\n",
        "                    alpha = max(alpha, eval)\n",
        "                    if beta <= alpha:\n",
        "                        break\n",
        "        return max_eval\n",
        "    else:\n",
        "        min_eval = float('inf')\n",
        "        for i in range(3):\n",
        "            for j in range(3):\n",
        "                if board[i][j] == ' ':\n",
        "                    board[i][j] = 'O'\n",
        "                    eval = minimax(board, depth + 1, alpha, beta, True)\n",
        "                    board[i][j] = ' '\n",
        "                    min_eval = min(min_eval, eval)\n",
        "                    beta = min(beta, eval)\n",
        "                    if beta <= alpha:\n",
        "                        break\n",
        "        return min_eval\n"
      ],
      "metadata": {
        "id": "QMGsVltOkKeh"
      },
      "execution_count": 19,
      "outputs": []
    },
    {
      "cell_type": "markdown",
      "source": [
        "### **Make the AI's move**"
      ],
      "metadata": {
        "id": "3Cf_WmqFmgNx"
      }
    },
    {
      "cell_type": "code",
      "source": [
        "# Step 7:\n",
        "\n",
        "def make_ai_move():\n",
        "    best_move = None\n",
        "    best_eval = float('-inf')\n",
        "    for i in range(3):\n",
        "        for j in range(3):\n",
        "            if board[i][j] == ' ':\n",
        "                board[i][j] = 'X'\n",
        "                eval = minimax(board, 0, float('-inf'), float('inf'), False)\n",
        "                board[i][j] = ' '\n",
        "                if eval > best_eval:\n",
        "                    best_eval = eval\n",
        "                    best_move = (i, j)\n",
        "    board[best_move[0]][best_move[1]] = 'X'"
      ],
      "metadata": {
        "id": "3z0_XBwykKg6"
      },
      "execution_count": 20,
      "outputs": []
    },
    {
      "cell_type": "markdown",
      "source": [
        "### **Main game loop**"
      ],
      "metadata": {
        "id": "v2ysf7Ucm4qz"
      }
    },
    {
      "cell_type": "code",
      "execution_count": 21,
      "metadata": {
        "id": "eLXPmYiLes19"
      },
      "outputs": [],
      "source": [
        "# Step 8:\n",
        "\n",
        "def play_tic_tac_toe():\n",
        "    while not check_win('X') and not check_win('O') and not check_draw():\n",
        "        display_board(board)\n",
        "        while True:\n",
        "            try:\n",
        "                row = int(input(\"Enter row (0, 1, or 2): \"))\n",
        "                col = int(input(\"Enter column (0, 1, or 2): \"))\n",
        "                if 0 <= row < 3 and 0 <= col < 3 and board[row][col] == ' ':\n",
        "                    board[row][col] = 'O'\n",
        "                    break\n",
        "                else:\n",
        "                    print(\"Invalid move. Try again.\")\n",
        "            except ValueError:\n",
        "                print(\"Invalid input. Try again.\")\n",
        "\n",
        "        if not check_win('O') and not check_draw():\n",
        "            make_ai_move()\n",
        "\n",
        "    display_board(board)\n",
        "    if check_win('X'):\n",
        "        print(\"AI wins!\")\n",
        "    elif check_win('O'):\n",
        "        print(\"You win!\")\n",
        "    else:\n",
        "        print(\"It's a draw!\")"
      ]
    },
    {
      "cell_type": "markdown",
      "source": [
        "### **Run The Game**"
      ],
      "metadata": {
        "id": "kJmucyuwnB3g"
      }
    },
    {
      "cell_type": "code",
      "source": [
        "# Step 9:\n",
        "\n",
        "if __name__ == \"__main__\":\n",
        "    play_tic_tac_toe()"
      ],
      "metadata": {
        "colab": {
          "base_uri": "https://localhost:8080/"
        },
        "id": "JSvUy6HrkiGq",
        "outputId": "1fb41929-80b5-4b6c-d49f-ead00a5392ac"
      },
      "execution_count": 22,
      "outputs": [
        {
          "output_type": "stream",
          "name": "stdout",
          "text": [
            " | | \n",
            "-----\n",
            " | | \n",
            "-----\n",
            " | | \n",
            "-----\n",
            "Enter row (0, 1, or 2): 0\n",
            "Enter column (0, 1, or 2): 1\n",
            "X|O| \n",
            "-----\n",
            " | | \n",
            "-----\n",
            " | | \n",
            "-----\n",
            "Enter row (0, 1, or 2): 2\n",
            "Enter column (0, 1, or 2): 1\n",
            "X|O| \n",
            "-----\n",
            " |X| \n",
            "-----\n",
            " |O| \n",
            "-----\n",
            "Enter row (0, 1, or 2): 2\n",
            "Enter column (0, 1, or 2): 1\n",
            "Invalid move. Try again.\n",
            "Enter row (0, 1, or 2): 2\n",
            "Enter column (0, 1, or 2): 1\n",
            "Invalid move. Try again.\n",
            "Enter row (0, 1, or 2): 0\n",
            "Enter column (0, 1, or 2): 1\n",
            "Invalid move. Try again.\n",
            "Enter row (0, 1, or 2): 0\n",
            "Enter column (0, 1, or 2): 1\n",
            "Invalid move. Try again.\n",
            "Enter row (0, 1, or 2): 1\n",
            "Enter column (0, 1, or 2): 1\n",
            "Invalid move. Try again.\n",
            "Enter row (0, 1, or 2): 2\n",
            "Enter column (0, 1, or 2): 0\n",
            "X|O| \n",
            "-----\n",
            " |X| \n",
            "-----\n",
            "O|O|X\n",
            "-----\n",
            "AI wins!\n"
          ]
        }
      ]
    },
    {
      "cell_type": "markdown",
      "source": [
        "## ***Accept The Challenge! Try To Beat MY Unbeatable AI player-***"
      ],
      "metadata": {
        "id": "691C08GToRq5"
      }
    },
    {
      "cell_type": "code",
      "source": [],
      "metadata": {
        "id": "3QHawsCak7CO"
      },
      "execution_count": null,
      "outputs": []
    }
  ]
}
