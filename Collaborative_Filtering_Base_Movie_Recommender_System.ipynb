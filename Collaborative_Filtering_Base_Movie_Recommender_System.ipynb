{
  "nbformat": 4,
  "nbformat_minor": 0,
  "metadata": {
    "colab": {
      "provenance": []
    },
    "kernelspec": {
      "name": "python3",
      "display_name": "Python 3"
    },
    "language_info": {
      "name": "python"
    }
  },
  "cells": [
    {
      "cell_type": "markdown",
      "source": [
        "# **Problem Statement**: Create a simple recommendation system that suggests items based on their preferences. You can use techniques like collaborative filtering or content-based filtering to recommend movies, books, or products to users."
      ],
      "metadata": {
        "id": "-QhU6d1i_Rxb"
      }
    },
    {
      "cell_type": "code",
      "source": [
        "# Import necessary libraries and install surprise\n",
        "#!pip install scikit-surprise"
      ],
      "metadata": {
        "id": "BBcGV2OJ_OnE"
      },
      "execution_count": 2,
      "outputs": []
    },
    {
      "cell_type": "code",
      "source": [
        "import pandas as pd\n",
        "from surprise import Dataset, Reader\n",
        "from surprise.model_selection import train_test_split\n",
        "from surprise import KNNBasic\n",
        "from surprise import accuracy"
      ],
      "metadata": {
        "id": "HIJxVq8v_FU2"
      },
      "execution_count": 3,
      "outputs": []
    },
    {
      "cell_type": "markdown",
      "source": [
        "# **Load and preprocess the data**"
      ],
      "metadata": {
        "id": "cpVVJqZJAL1Z"
      }
    },
    {
      "cell_type": "code",
      "source": [
        "# In this Project, we'll use the MovieLens dataset.\n",
        "file_path = \"/content/MovieLens.csv\"\n"
      ],
      "metadata": {
        "id": "wQMV_po-_t9_"
      },
      "execution_count": 20,
      "outputs": []
    },
    {
      "cell_type": "code",
      "source": [
        "# Load the dataset using pandas\n",
        "data_df = pd.read_csv(file_path)"
      ],
      "metadata": {
        "id": "gLBCYi1IBB6d"
      },
      "execution_count": 21,
      "outputs": []
    },
    {
      "cell_type": "code",
      "source": [
        "data_df.head()"
      ],
      "metadata": {
        "colab": {
          "base_uri": "https://localhost:8080/",
          "height": 206
        },
        "id": "73fsSB8fm0SN",
        "outputId": "0f7c7913-0af5-428c-9896-4f6cac071576"
      },
      "execution_count": 27,
      "outputs": [
        {
          "output_type": "execute_result",
          "data": {
            "text/plain": [
              "   userId  movieId  rating\n",
              "0       1      296     5.0\n",
              "1       1      306     3.5\n",
              "2       1      307     5.0\n",
              "3       1      665     5.0\n",
              "4       1      899     3.5"
            ],
            "text/html": [
              "\n",
              "  <div id=\"df-d8597578-c645-4649-a76f-ab46041ff242\" class=\"colab-df-container\">\n",
              "    <div>\n",
              "<style scoped>\n",
              "    .dataframe tbody tr th:only-of-type {\n",
              "        vertical-align: middle;\n",
              "    }\n",
              "\n",
              "    .dataframe tbody tr th {\n",
              "        vertical-align: top;\n",
              "    }\n",
              "\n",
              "    .dataframe thead th {\n",
              "        text-align: right;\n",
              "    }\n",
              "</style>\n",
              "<table border=\"1\" class=\"dataframe\">\n",
              "  <thead>\n",
              "    <tr style=\"text-align: right;\">\n",
              "      <th></th>\n",
              "      <th>userId</th>\n",
              "      <th>movieId</th>\n",
              "      <th>rating</th>\n",
              "    </tr>\n",
              "  </thead>\n",
              "  <tbody>\n",
              "    <tr>\n",
              "      <th>0</th>\n",
              "      <td>1</td>\n",
              "      <td>296</td>\n",
              "      <td>5.0</td>\n",
              "    </tr>\n",
              "    <tr>\n",
              "      <th>1</th>\n",
              "      <td>1</td>\n",
              "      <td>306</td>\n",
              "      <td>3.5</td>\n",
              "    </tr>\n",
              "    <tr>\n",
              "      <th>2</th>\n",
              "      <td>1</td>\n",
              "      <td>307</td>\n",
              "      <td>5.0</td>\n",
              "    </tr>\n",
              "    <tr>\n",
              "      <th>3</th>\n",
              "      <td>1</td>\n",
              "      <td>665</td>\n",
              "      <td>5.0</td>\n",
              "    </tr>\n",
              "    <tr>\n",
              "      <th>4</th>\n",
              "      <td>1</td>\n",
              "      <td>899</td>\n",
              "      <td>3.5</td>\n",
              "    </tr>\n",
              "  </tbody>\n",
              "</table>\n",
              "</div>\n",
              "    <div class=\"colab-df-buttons\">\n",
              "\n",
              "  <div class=\"colab-df-container\">\n",
              "    <button class=\"colab-df-convert\" onclick=\"convertToInteractive('df-d8597578-c645-4649-a76f-ab46041ff242')\"\n",
              "            title=\"Convert this dataframe to an interactive table.\"\n",
              "            style=\"display:none;\">\n",
              "\n",
              "  <svg xmlns=\"http://www.w3.org/2000/svg\" height=\"24px\" viewBox=\"0 -960 960 960\">\n",
              "    <path d=\"M120-120v-720h720v720H120Zm60-500h600v-160H180v160Zm220 220h160v-160H400v160Zm0 220h160v-160H400v160ZM180-400h160v-160H180v160Zm440 0h160v-160H620v160ZM180-180h160v-160H180v160Zm440 0h160v-160H620v160Z\"/>\n",
              "  </svg>\n",
              "    </button>\n",
              "\n",
              "  <style>\n",
              "    .colab-df-container {\n",
              "      display:flex;\n",
              "      gap: 12px;\n",
              "    }\n",
              "\n",
              "    .colab-df-convert {\n",
              "      background-color: #E8F0FE;\n",
              "      border: none;\n",
              "      border-radius: 50%;\n",
              "      cursor: pointer;\n",
              "      display: none;\n",
              "      fill: #1967D2;\n",
              "      height: 32px;\n",
              "      padding: 0 0 0 0;\n",
              "      width: 32px;\n",
              "    }\n",
              "\n",
              "    .colab-df-convert:hover {\n",
              "      background-color: #E2EBFA;\n",
              "      box-shadow: 0px 1px 2px rgba(60, 64, 67, 0.3), 0px 1px 3px 1px rgba(60, 64, 67, 0.15);\n",
              "      fill: #174EA6;\n",
              "    }\n",
              "\n",
              "    .colab-df-buttons div {\n",
              "      margin-bottom: 4px;\n",
              "    }\n",
              "\n",
              "    [theme=dark] .colab-df-convert {\n",
              "      background-color: #3B4455;\n",
              "      fill: #D2E3FC;\n",
              "    }\n",
              "\n",
              "    [theme=dark] .colab-df-convert:hover {\n",
              "      background-color: #434B5C;\n",
              "      box-shadow: 0px 1px 3px 1px rgba(0, 0, 0, 0.15);\n",
              "      filter: drop-shadow(0px 1px 2px rgba(0, 0, 0, 0.3));\n",
              "      fill: #FFFFFF;\n",
              "    }\n",
              "  </style>\n",
              "\n",
              "    <script>\n",
              "      const buttonEl =\n",
              "        document.querySelector('#df-d8597578-c645-4649-a76f-ab46041ff242 button.colab-df-convert');\n",
              "      buttonEl.style.display =\n",
              "        google.colab.kernel.accessAllowed ? 'block' : 'none';\n",
              "\n",
              "      async function convertToInteractive(key) {\n",
              "        const element = document.querySelector('#df-d8597578-c645-4649-a76f-ab46041ff242');\n",
              "        const dataTable =\n",
              "          await google.colab.kernel.invokeFunction('convertToInteractive',\n",
              "                                                    [key], {});\n",
              "        if (!dataTable) return;\n",
              "\n",
              "        const docLinkHtml = 'Like what you see? Visit the ' +\n",
              "          '<a target=\"_blank\" href=https://colab.research.google.com/notebooks/data_table.ipynb>data table notebook</a>'\n",
              "          + ' to learn more about interactive tables.';\n",
              "        element.innerHTML = '';\n",
              "        dataTable['output_type'] = 'display_data';\n",
              "        await google.colab.output.renderOutput(dataTable, element);\n",
              "        const docLink = document.createElement('div');\n",
              "        docLink.innerHTML = docLinkHtml;\n",
              "        element.appendChild(docLink);\n",
              "      }\n",
              "    </script>\n",
              "  </div>\n",
              "\n",
              "\n",
              "<div id=\"df-499b449f-3c76-4a1c-8c43-a25dd6f12ed3\">\n",
              "  <button class=\"colab-df-quickchart\" onclick=\"quickchart('df-499b449f-3c76-4a1c-8c43-a25dd6f12ed3')\"\n",
              "            title=\"Suggest charts.\"\n",
              "            style=\"display:none;\">\n",
              "\n",
              "<svg xmlns=\"http://www.w3.org/2000/svg\" height=\"24px\"viewBox=\"0 0 24 24\"\n",
              "     width=\"24px\">\n",
              "    <g>\n",
              "        <path d=\"M19 3H5c-1.1 0-2 .9-2 2v14c0 1.1.9 2 2 2h14c1.1 0 2-.9 2-2V5c0-1.1-.9-2-2-2zM9 17H7v-7h2v7zm4 0h-2V7h2v10zm4 0h-2v-4h2v4z\"/>\n",
              "    </g>\n",
              "</svg>\n",
              "  </button>\n",
              "\n",
              "<style>\n",
              "  .colab-df-quickchart {\n",
              "    background-color: #E8F0FE;\n",
              "    border: none;\n",
              "    border-radius: 50%;\n",
              "    cursor: pointer;\n",
              "    display: none;\n",
              "    fill: #1967D2;\n",
              "    height: 32px;\n",
              "    padding: 0 0 0 0;\n",
              "    width: 32px;\n",
              "  }\n",
              "\n",
              "  .colab-df-quickchart:hover {\n",
              "    background-color: #E2EBFA;\n",
              "    box-shadow: 0px 1px 2px rgba(60, 64, 67, 0.3), 0px 1px 3px 1px rgba(60, 64, 67, 0.15);\n",
              "    fill: #174EA6;\n",
              "  }\n",
              "\n",
              "  [theme=dark] .colab-df-quickchart {\n",
              "    background-color: #3B4455;\n",
              "    fill: #D2E3FC;\n",
              "  }\n",
              "\n",
              "  [theme=dark] .colab-df-quickchart:hover {\n",
              "    background-color: #434B5C;\n",
              "    box-shadow: 0px 1px 3px 1px rgba(0, 0, 0, 0.15);\n",
              "    filter: drop-shadow(0px 1px 2px rgba(0, 0, 0, 0.3));\n",
              "    fill: #FFFFFF;\n",
              "  }\n",
              "</style>\n",
              "\n",
              "  <script>\n",
              "    async function quickchart(key) {\n",
              "      const charts = await google.colab.kernel.invokeFunction(\n",
              "          'suggestCharts', [key], {});\n",
              "    }\n",
              "    (() => {\n",
              "      let quickchartButtonEl =\n",
              "        document.querySelector('#df-499b449f-3c76-4a1c-8c43-a25dd6f12ed3 button');\n",
              "      quickchartButtonEl.style.display =\n",
              "        google.colab.kernel.accessAllowed ? 'block' : 'none';\n",
              "    })();\n",
              "  </script>\n",
              "</div>\n",
              "    </div>\n",
              "  </div>\n"
            ]
          },
          "metadata": {},
          "execution_count": 27
        }
      ]
    },
    {
      "cell_type": "code",
      "source": [
        "# Define the Reader object\n",
        "reader = Reader(rating_scale=(1, 5))"
      ],
      "metadata": {
        "id": "PcF9FYq0mCvZ"
      },
      "execution_count": 28,
      "outputs": []
    },
    {
      "cell_type": "code",
      "source": [
        "# Load the data from the Pandas DataFrame into a Dataset object\n",
        "data = Dataset.load_from_df(data_df[['userId', 'movieId', 'rating']], reader)"
      ],
      "metadata": {
        "id": "NkKwso7ymMqF"
      },
      "execution_count": 29,
      "outputs": []
    },
    {
      "cell_type": "code",
      "source": [
        "# Split the data into training and testing sets\n",
        "trainset, testset = train_test_split(data, test_size=0.2, random_state=42)\n"
      ],
      "metadata": {
        "id": "OjaJjUjyBB9-"
      },
      "execution_count": 30,
      "outputs": []
    },
    {
      "cell_type": "markdown",
      "source": [
        "# **Build and train the recommendation model**\n",
        "we can choose different algorithms for collaborative filtering, like SVD, KNNBasic, etc."
      ],
      "metadata": {
        "id": "kp8gm7i8BcYN"
      }
    },
    {
      "cell_type": "code",
      "source": [
        "model = KNNBasic(sim_options={'user_based': True})  # User-based collaborative filtering"
      ],
      "metadata": {
        "id": "sJStY2HxBP5T"
      },
      "execution_count": 31,
      "outputs": []
    },
    {
      "cell_type": "code",
      "source": [
        "# Fit the model on the training data\n",
        "model.fit(trainset)"
      ],
      "metadata": {
        "colab": {
          "base_uri": "https://localhost:8080/"
        },
        "id": "SYR3x6UEBPq4",
        "outputId": "45399929-7716-494a-eb97-e4c188da2380"
      },
      "execution_count": 32,
      "outputs": [
        {
          "output_type": "stream",
          "name": "stdout",
          "text": [
            "Computing the msd similarity matrix...\n",
            "Done computing similarity matrix.\n"
          ]
        },
        {
          "output_type": "execute_result",
          "data": {
            "text/plain": [
              "<surprise.prediction_algorithms.knns.KNNBasic at 0x7d7e2a6dee30>"
            ]
          },
          "metadata": {},
          "execution_count": 32
        }
      ]
    },
    {
      "cell_type": "markdown",
      "source": [
        "# **Make recommendations for a user**"
      ],
      "metadata": {
        "id": "o-EZkpF9CN_8"
      }
    },
    {
      "cell_type": "code",
      "source": [
        "user_id = input(\"Enter The User!\")\n",
        "print(\"you are looking for top 10 recommendations for\",user_id)\n",
        "n_recommendations = 10  # Number of recommendations to generate"
      ],
      "metadata": {
        "colab": {
          "base_uri": "https://localhost:8080/"
        },
        "id": "BzKXXo5TB4oE",
        "outputId": "d336844f-8db7-40b3-d46c-bbe67a269488"
      },
      "execution_count": 43,
      "outputs": [
        {
          "output_type": "stream",
          "name": "stdout",
          "text": [
            "Enter The User!5\n",
            "you are looking for top 10 recommendations for 5\n"
          ]
        }
      ]
    },
    {
      "cell_type": "code",
      "source": [
        "# Get a list of all item IDs\n",
        "all_item_ids = data.build_full_trainset().all_items()"
      ],
      "metadata": {
        "id": "NglMJtqHhQN2"
      },
      "execution_count": 44,
      "outputs": []
    },
    {
      "cell_type": "code",
      "source": [
        "# Remove items that the user has already rated\n",
        "items_to_predict = [item_id for item_id in all_item_ids if item_id not in trainset.ur[user_id]]"
      ],
      "metadata": {
        "id": "hgyHSUXthT7x"
      },
      "execution_count": 45,
      "outputs": []
    },
    {
      "cell_type": "code",
      "source": [
        "# Make predictions for the user\n",
        "predictions = [model.predict(user_id, item_id) for item_id in items_to_predict]"
      ],
      "metadata": {
        "id": "f4tx5GjzhT_O"
      },
      "execution_count": 46,
      "outputs": []
    },
    {
      "cell_type": "code",
      "source": [
        "# Sort the predictions by estimated rating in descending order\n",
        "predictions.sort(key=lambda x: x.est, reverse=True)\n"
      ],
      "metadata": {
        "id": "-oDXjFX0he26"
      },
      "execution_count": 47,
      "outputs": []
    },
    {
      "cell_type": "code",
      "source": [
        "# Get the top N recommendations\n",
        "top_n_recommendations = predictions[:n_recommendations]"
      ],
      "metadata": {
        "id": "WiVPPTQohfIb"
      },
      "execution_count": 48,
      "outputs": []
    },
    {
      "cell_type": "code",
      "source": [
        "# Print the top recommendations\n",
        "print(f\"Top {n_recommendations} Recommendations for User {user_id}:\")\n",
        "for i, prediction in enumerate(top_n_recommendations):\n",
        "    print(f\"{i + 1}: {prediction.iid} (Estimated Rating: {prediction.est:.2f})\")"
      ],
      "metadata": {
        "colab": {
          "base_uri": "https://localhost:8080/"
        },
        "id": "eW7cEl_ghsis",
        "outputId": "f209645e-c6ca-4e22-b7f7-7523a7a3c9ab"
      },
      "execution_count": 49,
      "outputs": [
        {
          "output_type": "stream",
          "name": "stdout",
          "text": [
            "Top 10 Recommendations for User 5:\n",
            "1: 0 (Estimated Rating: 3.54)\n",
            "2: 1 (Estimated Rating: 3.54)\n",
            "3: 2 (Estimated Rating: 3.54)\n",
            "4: 3 (Estimated Rating: 3.54)\n",
            "5: 4 (Estimated Rating: 3.54)\n",
            "6: 5 (Estimated Rating: 3.54)\n",
            "7: 6 (Estimated Rating: 3.54)\n",
            "8: 7 (Estimated Rating: 3.54)\n",
            "9: 8 (Estimated Rating: 3.54)\n",
            "10: 9 (Estimated Rating: 3.54)\n"
          ]
        }
      ]
    },
    {
      "cell_type": "markdown",
      "source": [
        "# **Evaluate the model**"
      ],
      "metadata": {
        "id": "NreQl9Phh59m"
      }
    },
    {
      "cell_type": "code",
      "source": [
        "# You can evaluate the model's performance on the test set\n",
        "\n",
        "test_predictions = model.test(testset)\n",
        "rmse = accuracy.rmse(test_predictions)\n",
        "mae = accuracy.mae(test_predictions)\n",
        "print(f\"Root Mean Squared Error (RMSE): {rmse:.2f}\")\n",
        "print(f\"Mean Absolute Error (MAE): {mae:.2f}\")"
      ],
      "metadata": {
        "colab": {
          "base_uri": "https://localhost:8080/"
        },
        "id": "c3UbExk1hsyi",
        "outputId": "d9d7696f-466e-4535-9c09-22c1c503864a"
      },
      "execution_count": 41,
      "outputs": [
        {
          "output_type": "stream",
          "name": "stdout",
          "text": [
            "RMSE: 0.9000\n",
            "MAE:  0.6829\n",
            "Root Mean Squared Error (RMSE): 0.90\n",
            "Mean Absolute Error (MAE): 0.68\n"
          ]
        }
      ]
    },
    {
      "cell_type": "markdown",
      "source": [
        "# *****In summary, an RMSE of 0.9 and an MAE of 0.68 are reasonable starting points, but whether My Model is considered \"good\" depends on the factors Like user satisfaction and baselinecomparison. It's also common to continuously refine and improve recommendation models to achieve better performance if needed.*****"
      ],
      "metadata": {
        "id": "EdDWjYlIpeMX"
      }
    },
    {
      "cell_type": "code",
      "source": [],
      "metadata": {
        "id": "3FPJsGxcA-jD"
      },
      "execution_count": null,
      "outputs": []
    }
  ]
}